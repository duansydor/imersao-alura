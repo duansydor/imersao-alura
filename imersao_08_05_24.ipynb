{
  "nbformat": 4,
  "nbformat_minor": 0,
  "metadata": {
    "colab": {
      "provenance": [],
      "authorship_tag": "ABX9TyPyTGTshACFNnGNwAL10EFm",
      "include_colab_link": true
    },
    "kernelspec": {
      "name": "python3",
      "display_name": "Python 3"
    },
    "language_info": {
      "name": "python"
    }
  },
  "cells": [
    {
      "cell_type": "markdown",
      "metadata": {
        "id": "view-in-github",
        "colab_type": "text"
      },
      "source": [
        "<a href=\"https://colab.research.google.com/github/duansydor/imersao-alura/blob/main/imersao_08_05_24.ipynb\" target=\"_parent\"><img src=\"https://colab.research.google.com/assets/colab-badge.svg\" alt=\"Open In Colab\"/></a>"
      ]
    },
    {
      "cell_type": "code",
      "execution_count": 37,
      "metadata": {
        "id": "r6FbacKIOzRd"
      },
      "outputs": [],
      "source": [
        "import requests\n",
        "import random"
      ]
    },
    {
      "cell_type": "code",
      "source": [
        "url = \"https://raw.githubusercontent.com/guilhermeonrails/api-imersao-ia/main/words.json\"\n",
        "response  = requests.get(url)\n",
        "data = response.json()"
      ],
      "metadata": {
        "id": "0PGiKT24RJ90"
      },
      "execution_count": 38,
      "outputs": []
    },
    {
      "cell_type": "code",
      "source": [
        "valor_secreto = random.choice(data)\n",
        "palavra_secreta = valor_secreto['palavra']\n",
        "dica = valor_secreto['dica']\n",
        "print(f'a palavra secreta tem {len(palavra_secreta)}')\n",
        "print(f'{dica}')\n",
        "chute = input('Qual é o seu palpite? ')\n",
        "if chute == palavra_secreta:\n",
        "  print('você acertou')\n",
        "else:\n",
        "  print(f'Resposta errada, a palavra secreta é {palavra_secreta}')"
      ],
      "metadata": {
        "colab": {
          "base_uri": "https://localhost:8080/"
        },
        "id": "FOkVVwcSR4vS",
        "outputId": "0c8ce8eb-0c82-4d0f-87a5-b442ff968a32"
      },
      "execution_count": 44,
      "outputs": [
        {
          "output_type": "stream",
          "name": "stdout",
          "text": [
            "a palavra secreta tem 4\n",
            "desenvolver aplicações empresariais e para dispositivos móveis.\n",
            "Qual é o seu palpite? nao\n",
            "a palavra secreta é java\n"
          ]
        }
      ]
    },
    {
      "cell_type": "code",
      "source": [],
      "metadata": {
        "id": "cdQT6j9BZ1vX"
      },
      "execution_count": null,
      "outputs": []
    }
  ]
}